{
 "cells": [
  {
   "cell_type": "markdown",
   "metadata": {},
   "source": [
    "In this notebook we will explore different predictors to predict the outcome of match for *Heroes of the Storm* (HOTS) from *Blizzard*. The data used for this analysis was downloaded from [hotslog.com](https://d1i1jxrdh2kvwy.cloudfront.net/Data/HOTSLogs%20Data%202015-12-30%20-%202016-01-29.zip) database. This data set includes around 2 millions games played during December 2015. \n",
    "\n",
    "I hope to reach some conclusions about what we need to make a good predictor. "
   ]
  },
  {
   "cell_type": "code",
   "execution_count": 15,
   "metadata": {
    "collapsed": true
   },
   "outputs": [],
   "source": [
    "#Simple getting the data and setting the data sets\n",
    "%matplotlib inline\n",
    "import pandas as pd\n",
    "import seaborn as sns \n",
    "import numpy as np\n",
    "sns.set_context(\"notebook\", font_scale=1.5, rc={\"lines.linewidth\": 2.5})\n",
    "df = pd.read_csv('data/learning_ready_with_mmr.csv')\n",
    "df = df.iloc[1000000:1500000] #keep some data, I used the first million entries to train de predictors\n",
    "#With 10-fold the variance is very low, e.g. < 0.1 for each predictor, thus I decided \n",
    "#to test on a different dataset and only show that agreagated result. \n",
    "\n",
    "#Create the dataset we want to test our predictors on\n",
    "dfOneTeam = pd.concat([df.iloc[:,1:49], df.iloc[:,-1]],axis=1)\n",
    "dfTwoTeams = pd.concat([df.iloc[:,1:97],df.iloc[:,-1]],axis=1)\n",
    "dfTwoTeamsMMR = df.iloc[:,1:108]\n",
    "dfMMR = df.iloc[:,97:108]\n",
    "#load the different predictors\n",
    "from sklearn.externals import joblib\n",
    "from sklearn.ensemble import RandomForestClassifier\n",
    "\n",
    "clfOneTeam = joblib.load('OneTeam/clf.pkl') \n",
    "clfTwoTeams = joblib.load('TwoTeams/clf.pkl')\n",
    "clfTwoTeamsMMR = joblib.load('TwoTeamsMMR/clf.pkl')\n",
    "clfMMR = joblib.load('MMR/clf.pkl')"
   ]
  },
  {
   "cell_type": "markdown",
   "metadata": {},
   "source": [
    "Offline this file (you can consult the different scripts in this github repo), I have trained different random tree classifiers using sklearn based on different criteria. HOTS is a 5 *vs.* 5 game, where each player selects a hero out of 50 choices. Within the same team it is impossible to pick the same hero. We will denote a team selection of heros a composition. \n",
    "\n",
    "We first investigate our capacity to predict the winning team if we only know one team composition. "
   ]
  },
  {
   "cell_type": "code",
   "execution_count": 20,
   "metadata": {
    "collapsed": false
   },
   "outputs": [
    {
     "data": {
      "text/plain": [
       "0.663968"
      ]
     },
     "execution_count": 20,
     "metadata": {},
     "output_type": "execute_result"
    }
   ],
   "source": [
    "results = {}\n",
    "results['OneTeam'] = clfOneTeam.score(dfOneTeam.iloc[:,:-1],dfOneTeam.iloc[:,-1])\n",
    "results['OneTeam']"
   ]
  },
  {
   "cell_type": "markdown",
   "metadata": {},
   "source": [
    "Given one team composition we can predict 66% of the time if the team is a winning one. From the k-fold validation I did in the .py files, the variance is around 0.1%. This is already a lot better than simply flipping a coin between the two teams. This actually suggests that the team composition is import for winning. \n",
    "\n",
    "Lets investigate the same prediction but if are given the composition of both teams. "
   ]
  },
  {
   "cell_type": "code",
   "execution_count": 21,
   "metadata": {
    "collapsed": false
   },
   "outputs": [
    {
     "data": {
      "text/plain": [
       "0.72867999999999999"
      ]
     },
     "execution_count": 21,
     "metadata": {},
     "output_type": "execute_result"
    }
   ],
   "source": [
    "results['TwoTeams'] = clfTwoTeams.score(dfTwoTeams.iloc[:,:-1],dfTwoTeams.iloc[:,-1])\n",
    "results['TwoTeams']"
   ]
  },
  {
   "cell_type": "markdown",
   "metadata": {},
   "source": [
    "We are doing even better if we know both teams composition. This suggests that the composition is very imortant to winning a fight. \n",
    "\n",
    "In HOTS, and most competitive games, the players are ranked againts each others. Most modelled are inspired by the famous ELO rating for professionnal chess rating. HOTSlogs uses a Match Making Ratio (MMR) and provided the dataset with such information. In general the higher your number is, the greater a player you are. Thus, if a team has a higher MMR than the other team, then that team should win the fight. \n",
    "\n",
    "We next investigate if only using the teams MMRs we can predict the winning one.  "
   ]
  },
  {
   "cell_type": "code",
   "execution_count": 22,
   "metadata": {
    "collapsed": false
   },
   "outputs": [
    {
     "data": {
      "text/plain": [
       "0.51815"
      ]
     },
     "execution_count": 22,
     "metadata": {},
     "output_type": "execute_result"
    }
   ],
   "source": [
    "results['MMR'] = clfMMR.score(dfMMR.iloc[:,:-1],dfMMR.iloc[:,-1])\n",
    "results['MMR']"
   ]
  },
  {
   "cell_type": "markdown",
   "metadata": {},
   "source": [
    "This result does not suggests that the MMR is useless. I believe this means the fights that occurs on HOTS matching algorithm are actually strongly based on MMR. This resluts proposed that most team MMR are similar when they enter a fight and the output is unknown. \n",
    "\n",
    "In order to evaluate that last argument more, lets add the teams MMR to the data and see if we can predict the output better. "
   ]
  },
  {
   "cell_type": "code",
   "execution_count": 23,
   "metadata": {
    "collapsed": false
   },
   "outputs": [
    {
     "data": {
      "text/plain": [
       "0.71156799999999998"
      ]
     },
     "execution_count": 23,
     "metadata": {},
     "output_type": "execute_result"
    }
   ],
   "source": [
    "results['TwoTeamsMMR'] = clfTwoTeamsMMR.score(dfTwoTeamsMMR.iloc[:,:-1],dfMMR.iloc[:,-1])\n",
    "results['TwoTeamsMMR']"
   ]
  },
  {
   "cell_type": "markdown",
   "metadata": {},
   "source": [
    "This result solidifies the last argument, the matching algorithm uses mainly MMR to match teams. The real difference is in the team composition. Here lets have a look at all the predictors approaches in one graph. "
   ]
  },
  {
   "cell_type": "code",
   "execution_count": 41,
   "metadata": {
    "collapsed": false
   },
   "outputs": [
    {
     "data": {
      "text/plain": [
       "<matplotlib.legend.Legend at 0x114e15690>"
      ]
     },
     "execution_count": 41,
     "metadata": {},
     "output_type": "execute_result"
    },
    {
     "data": {
      "image/png": "[encoded data removed]",
      "text/plain": [
       "<matplotlib.figure.Figure at 0x114e0eb10>"
      ]
     },
     "metadata": {},
     "output_type": "display_data"
    }
   ],
   "source": [
    "colors = [\"windows blue\", \"amber\", \"greyish\", \"faded green\", \"dusty purple\"]\n",
    "j = 0 \n",
    "for i in results:\n",
    "    ax = sns.plt.axvline(results[i],label=i,color = sns.xkcd_rgb[colors[j]])\n",
    "    j+=1\n",
    "sns.plt.xlim([0.48,0.8])\n",
    "sns.plt.yticks([],[])\n",
    "sns.plt.legend(loc='center left', bbox_to_anchor=(1, 0.5))"
   ]
  },
  {
   "cell_type": "markdown",
   "metadata": {},
   "source": [
    "In general in this notebook, we investigate how a team composition can influence the outcome of a match. We also discover some details about the matchmaking algo\n",
    "\n",
    "The next step for this work would to obviously explore different classifier to see if we could improved on our results. Deep neural networks might be an interesting approach and will probably show interesting structure in the hero selections. \n",
    "\n"
   ]
  }
 ],
 "metadata": {
  "kernelspec": {
   "display_name": "Python 2",
   "language": "python",
   "name": "python2"
  },
  "language_info": {
   "codemirror_mode": {
    "name": "ipython",
    "version": 2
   },
   "file_extension": ".py",
   "mimetype": "text/x-python",
   "name": "python",
   "nbconvert_exporter": "python",
   "pygments_lexer": "ipython2",
   "version": "2.7.9"
  }
 },
 "nbformat": 4,
 "nbformat_minor": 0
}
